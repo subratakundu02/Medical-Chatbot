{
 "cells": [
  {
   "cell_type": "code",
   "execution_count": 1,
   "metadata": {},
   "outputs": [
    {
     "name": "stdout",
     "output_type": "stream",
     "text": [
      "OK\n"
     ]
    }
   ],
   "source": [
    "print('OK')"
   ]
  },
  {
   "cell_type": "code",
   "execution_count": 63,
   "metadata": {},
   "outputs": [],
   "source": [
    "# importing all require library\n",
    "from langchain.llms import GooglePalm\n",
    "from langchain.chat_models import ChatGooglePalm\n",
    "from langchain.chains import RetrievalQA\n",
    "from langchain.prompts import PromptTemplate\n",
    "from langchain.embeddings import HuggingFaceEmbeddings\n",
    "from langchain.vectorstores import Pinecone\n",
    "import pinecone\n",
    "from langchain.document_loaders import PyPDFLoader,DirectoryLoader\n",
    "from langchain.text_splitter import RecursiveCharacterTextSplitter "
   ]
  },
  {
   "cell_type": "code",
   "execution_count": 6,
   "metadata": {},
   "outputs": [
    {
     "data": {
      "text/plain": [
       "True"
      ]
     },
     "execution_count": 6,
     "metadata": {},
     "output_type": "execute_result"
    }
   ],
   "source": [
    "from dotenv import load_dotenv\n",
    "\n",
    "load_dotenv()"
   ]
  },
  {
   "cell_type": "code",
   "execution_count": 7,
   "metadata": {},
   "outputs": [],
   "source": [
    "# extract data from PDF\n",
    "\n",
    "def pdf_loader(data):\n",
    "    loader=DirectoryLoader(data,\n",
    "                        glob='*.pdf',\n",
    "                        loader_cls=PyPDFLoader)\n",
    "\n",
    "    document=loader.load()\n",
    "\n",
    "    return document"
   ]
  },
  {
   "cell_type": "code",
   "execution_count": 10,
   "metadata": {},
   "outputs": [],
   "source": [
    "extracted_data=pdf_loader('./../Data/')"
   ]
  },
  {
   "cell_type": "code",
   "execution_count": 14,
   "metadata": {},
   "outputs": [],
   "source": [
    "# create text chunks\n",
    "\n",
    "def text_split(extracted_data):\n",
    "    text_spliter=RecursiveCharacterTextSplitter(chunk_size=600,chunk_overlap=100)\n",
    "    text_chunks=text_spliter.split_documents(extracted_data)\n",
    "\n",
    "    return text_chunks"
   ]
  },
  {
   "cell_type": "code",
   "execution_count": 15,
   "metadata": {},
   "outputs": [
    {
     "name": "stdout",
     "output_type": "stream",
     "text": [
      "lenght of my chunks :  5992\n"
     ]
    }
   ],
   "source": [
    "text_chunks=text_split(extracted_data)\n",
    "print(\"lenght of my chunks : \",len(text_chunks))"
   ]
  },
  {
   "cell_type": "code",
   "execution_count": 16,
   "metadata": {},
   "outputs": [],
   "source": [
    "# dowmload embedded model\n",
    "def hugging_face_embeddings():\n",
    "    embeddings=HuggingFaceEmbeddings(model_name=\"sentence-transformers/all-MiniLM-L6-v2\")\n",
    "    return embeddings"
   ]
  },
  {
   "cell_type": "code",
   "execution_count": 17,
   "metadata": {},
   "outputs": [
    {
     "name": "stderr",
     "output_type": "stream",
     "text": [
      "d:\\End-to-end-medical-chatbot\\venv\\lib\\site-packages\\langchain_core\\_api\\deprecation.py:139: LangChainDeprecationWarning: The class `HuggingFaceEmbeddings` was deprecated in LangChain 0.2.2 and will be removed in 0.3.0. An updated version of the class exists in the langchain-huggingface package and should be used instead. To use it run `pip install -U langchain-huggingface` and import as `from langchain_huggingface import HuggingFaceEmbeddings`.\n",
      "  warn_deprecated(\n"
     ]
    }
   ],
   "source": [
    "embeddings=hugging_face_embeddings()"
   ]
  },
  {
   "cell_type": "code",
   "execution_count": 18,
   "metadata": {},
   "outputs": [
    {
     "data": {
      "text/plain": [
       "HuggingFaceEmbeddings(client=SentenceTransformer(\n",
       "  (0): Transformer({'max_seq_length': 256, 'do_lower_case': False}) with Transformer model: BertModel \n",
       "  (1): Pooling({'word_embedding_dimension': 384, 'pooling_mode_cls_token': False, 'pooling_mode_mean_tokens': True, 'pooling_mode_max_tokens': False, 'pooling_mode_mean_sqrt_len_tokens': False, 'pooling_mode_weightedmean_tokens': False, 'pooling_mode_lasttoken': False, 'include_prompt': True})\n",
       "  (2): Normalize()\n",
       "), model_name='sentence-transformers/all-MiniLM-L6-v2', cache_folder=None, model_kwargs={}, encode_kwargs={}, multi_process=False, show_progress=False)"
      ]
     },
     "execution_count": 18,
     "metadata": {},
     "output_type": "execute_result"
    }
   ],
   "source": [
    "embeddings"
   ]
  },
  {
   "cell_type": "code",
   "execution_count": 19,
   "metadata": {},
   "outputs": [
    {
     "name": "stdout",
     "output_type": "stream",
     "text": [
      "lenght 384\n"
     ]
    }
   ],
   "source": [
    "query_result=embeddings.embed_query(\"Hello world\")\n",
    "print(\"lenght\",len(query_result))"
   ]
  },
  {
   "cell_type": "code",
   "execution_count": 20,
   "metadata": {},
   "outputs": [],
   "source": [
    "import os"
   ]
  },
  {
   "cell_type": "code",
   "execution_count": 24,
   "metadata": {},
   "outputs": [],
   "source": [
    "from pinecone import Pinecone,ServerlessSpec"
   ]
  },
  {
   "cell_type": "code",
   "execution_count": 25,
   "metadata": {},
   "outputs": [],
   "source": [
    "# Initializaing Pinecone\n",
    "pc=Pinecone(api_key=os.getenv('PINECONE_API_KEY'))"
   ]
  },
  {
   "cell_type": "code",
   "execution_count": 26,
   "metadata": {},
   "outputs": [],
   "source": [
    "index_name='medical-chatbot'"
   ]
  },
  {
   "cell_type": "code",
   "execution_count": 28,
   "metadata": {},
   "outputs": [
    {
     "data": {
      "text/plain": [
       "['medical-chatbot', 'govt-budget-project', 'vecotr-db-test']"
      ]
     },
     "execution_count": 28,
     "metadata": {},
     "output_type": "execute_result"
    }
   ],
   "source": [
    "pc.list_indexes().names()"
   ]
  },
  {
   "cell_type": "code",
   "execution_count": 29,
   "metadata": {},
   "outputs": [],
   "source": [
    "# access the index for further \n",
    "index=pc.Index(index_name)"
   ]
  },
  {
   "cell_type": "code",
   "execution_count": 31,
   "metadata": {},
   "outputs": [],
   "source": [
    "from langchain.vectorstores import Pinecone\n",
    "\n",
    "#Creating Embeddings for Each of The Text Chunks & storing\n",
    "docsearch=Pinecone.from_texts([t.page_content for t in text_chunks], embeddings, index_name=index_name)"
   ]
  },
  {
   "cell_type": "code",
   "execution_count": 55,
   "metadata": {},
   "outputs": [],
   "source": [
    "docsearch=Pinecone.from_existing_index(index_name,embeddings)"
   ]
  },
  {
   "cell_type": "code",
   "execution_count": null,
   "metadata": {},
   "outputs": [],
   "source": []
  },
  {
   "cell_type": "code",
   "execution_count": 56,
   "metadata": {},
   "outputs": [
    {
     "name": "stdout",
     "output_type": "stream",
     "text": [
      "Result [Document(page_content='Richard Robinson\\nAllergies\\nDefinition\\nAllergies are abnormal reactions of the immune sys-\\ntem that occur in response to otherwise harmless sub-stances.\\nGALE ENCYCLOPEDIA OF MEDICINE 2 114AllergiesGEM - 0001 to 0432 - A  10/22/03 1:42 PM  Page 114'), Document(page_content='Causes\\nAllergic rhinitis is a type of immune reaction. Nor-\\nmally, the immune system responds to foreign microor-ganisms, or particles, like pollen or dust, by producingspecific proteins, called antibodies, that are capable ofbinding to identifying molecules, or antigens, on the for-eign particle. This reaction between antibody and antigensets off a series of reactions designed to protect the bodyfrom infection. Sometimes, this same series of reactionsis triggered by harmless, everyday substances. This is thecondition known as allergy, and the offending substanceis called an allergen.'), Document(page_content='mally, the immune system responds to foreign microor-ganisms and particles, like pollen or dust, by producingspecific proteins called antibodies that are capable ofbinding to identifying molecules, or antigens, on theforeign organisms. This reaction between antibody andantigen sets off a series of reactions designed to protectthe body from infection. Sometimes, this same series ofreactions is triggered by harmless, everyday substances.This is the condition known as allergy, and the offend-ing substance is called an allergen. Common inhaledallergens include pollen, dust, and insect parts from')]\n"
     ]
    }
   ],
   "source": [
    "query=\"What is Allergies\"\n",
    "\n",
    "docs=docsearch.similarity_search(query,k=3)\n",
    "\n",
    "print(\"Result\",docs)"
   ]
  },
  {
   "cell_type": "code",
   "execution_count": 37,
   "metadata": {},
   "outputs": [],
   "source": [
    "prompt_template='''\n",
    "Use the following following pieces of information to answer the user's question\n",
    "If you don't know the answer, just say you don't know, don't try to make up any answer\n",
    "\n",
    "context : {context}\n",
    "question : {question}\n",
    "\n",
    "Only return the helpful answer below nothing else.\n",
    "Helpful Answer : \n",
    "\n",
    "'''"
   ]
  },
  {
   "cell_type": "code",
   "execution_count": 38,
   "metadata": {},
   "outputs": [],
   "source": [
    "PROMPT=PromptTemplate(template=prompt_template,input_variables=['context','question'])\n",
    "chain_type_kwargs={\"prompt\": PROMPT}"
   ]
  },
  {
   "cell_type": "code",
   "execution_count": 64,
   "metadata": {},
   "outputs": [],
   "source": [
    "llm=ChatGooglePalm(google_api_key=os.getenv('GOOGLE_API_KEY'),temperature=0.5)"
   ]
  },
  {
   "cell_type": "code",
   "execution_count": 67,
   "metadata": {},
   "outputs": [],
   "source": [
    "qa=RetrievalQA.from_chain_type(\n",
    "    llm=llm, \n",
    "    chain_type=\"stuff\", \n",
    "    retriever=docsearch.as_retriever(),\n",
    "    return_source_documents=True,\n",
    "    chain_type_kwargs=chain_type_kwargs)\n",
    "                                "
   ]
  },
  {
   "cell_type": "code",
   "execution_count": 70,
   "metadata": {},
   "outputs": [
    {
     "name": "stdout",
     "output_type": "stream",
     "text": [
      "Response :  Breast cancer is a type of cancer that starts in the breasts. It is the most common cancer among women, excluding skin cancer. In 2020, an estimated 281,550 new cases of invasive breast cancer were diagnosed in women in the United States, along with 49,290 deaths from the disease.\n",
      "\n",
      "Breast cancer can occur in both women and men, but it is much more common in women. About 1 in 8 women will develop invasive breast cancer over the course of their lifetime.\n",
      "\n",
      "The risk of breast cancer increases with age. Most cases are diagnosed in women over the age of 50. However, breast cancer can occur in women of any age, even teenagers.\n",
      "\n",
      "There are a number of factors that can increase the risk of breast cancer, including:\n",
      "\n",
      "* Age: The risk of breast cancer increases with age. Most cases are diagnosed in women over the age of 50.\n",
      "* Family history: Women who have a family history of breast cancer are at an increased risk of developing the disease.\n",
      "* Personal history: Women who have had breast cancer in one breast are at an increased risk of developing breast cancer in the other breast.\n",
      "* Reproductive history: Women who have never had children or who had their first child after the age of 30 are at an increased risk of breast cancer.\n",
      "* Dense breasts: Women with dense breasts have more fibrous and glandular tissue and less fatty tissue. This makes it more difficult to see cancer on a mammogram.\n",
      "* Certain inherited gene mutations: Certain inherited gene mutations, such as BRCA1 and BRCA2, can increase the risk of breast cancer.\n",
      "* Race: White women are slightly more likely to develop breast cancer than African American women. However, African American women are more likely to die from breast cancer.\n",
      "\n",
      "There are a number of things women can do to reduce their risk of breast cancer, including:\n",
      "\n",
      "* Get regular mammograms: Mammograms are the best way to detect breast cancer early, when it is most treatable. Women should start getting mammograms every year starting at age 40.\n",
      "* Perform monthly breast self-exams: Breast self-exams can help women find breast cancer early. Women should perform a breast self-exam every month starting at age 20.\n",
      "* Eat a healthy diet: A healthy diet can help reduce the risk of many types of cancer, including breast cancer. Women should eat a diet that is high in fruits, vegetables, and whole grains.\n",
      "* Maintain a healthy weight: Being overweight or obese can increase the risk of breast cancer. Women should aim to maintain a healthy weight by eating a healthy diet and exercising regularly.\n",
      "* Exercise regularly: Exercise can help reduce the risk of many types of cancer, including breast cancer. Women should aim to get at least 150 minutes of moderate-intensity exercise or 75 minutes of vigorous-intensity exercise each week.\n",
      "* Limit alcohol intake: Alcohol can increase the risk of breast cancer. Women should limit their alcohol intake to no more than one drink per day.\n",
      "* Don't smoke: Smoking increases the risk of many types of cancer, including breast cancer. Women should never smoke or quit smoking if they smoke.\n",
      "\n",
      "If you have any concerns about breast cancer, talk to your doctor.\n"
     ]
    }
   ],
   "source": [
    "query1=\"Tell me about breast cancer\"\n",
    "\n",
    "result=qa(query1)\n",
    "\n",
    "print(\"Response : \", result[\"result\"])"
   ]
  },
  {
   "cell_type": "code",
   "execution_count": 71,
   "metadata": {},
   "outputs": [
    {
     "name": "stdout",
     "output_type": "stream",
     "text": [
      "Response :  Here are some things you can do to prevent AIDS:\n",
      "\n",
      "* **Be monogamous and practice safe sex.** This means having sexual intercourse only with one partner who is not infected with HIV. If you do have sex with someone who is not your partner, use a condom every time.\n",
      "* **Avoid needle sharing among intravenous drug users.** If you inject drugs, use a clean needle and syringe every time. You can also get help to stop using drugs.\n",
      "* **Get tested for HIV.** If you think you may have been exposed to HIV, get tested as soon as possible. Early diagnosis and treatment can help you live a long and healthy life.\n",
      "* **If you are pregnant, get tested for HIV.** If you are HIV-positive, you can take steps to prevent your baby from getting infected.\n",
      "* **Talk to your doctor about HIV prevention.** Your doctor can help you understand the risks of HIV and how to protect yourself.\n",
      "\n",
      "It is important to remember that there is no cure for AIDS, but there are treatments that can help people with HIV live long and healthy lives. If you think you may be at risk for HIV, talk to your doctor about getting tested. Early diagnosis and treatment can make a big difference.\n"
     ]
    }
   ],
   "source": [
    "query2=\"what should i do to prevent AIDS\"\n",
    "\n",
    "result=qa(query2)\n",
    "\n",
    "print(\"Response : \", result[\"result\"])"
   ]
  },
  {
   "cell_type": "code",
   "execution_count": null,
   "metadata": {},
   "outputs": [],
   "source": []
  }
 ],
 "metadata": {
  "kernelspec": {
   "display_name": "Python 3",
   "language": "python",
   "name": "python3"
  },
  "language_info": {
   "codemirror_mode": {
    "name": "ipython",
    "version": 3
   },
   "file_extension": ".py",
   "mimetype": "text/x-python",
   "name": "python",
   "nbconvert_exporter": "python",
   "pygments_lexer": "ipython3",
   "version": "3.10.0"
  }
 },
 "nbformat": 4,
 "nbformat_minor": 2
}
